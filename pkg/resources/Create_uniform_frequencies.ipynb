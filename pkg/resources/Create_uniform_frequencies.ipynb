{
 "cells": [
  {
   "cell_type": "code",
   "execution_count": 1,
   "metadata": {
    "collapsed": true
   },
   "outputs": [],
   "source": [
    "import numpy as np\n",
    "import pandas as pd"
   ]
  },
  {
   "cell_type": "markdown",
   "metadata": {},
   "source": [
    "# Validated data"
   ]
  },
  {
   "cell_type": "code",
   "execution_count": 2,
   "metadata": {
    "collapsed": false
   },
   "outputs": [],
   "source": [
    "neonate_validated = pd.read_csv('../../smartva/data/validated-neonate.csv')"
   ]
  },
  {
   "cell_type": "code",
   "execution_count": 3,
   "metadata": {
    "collapsed": false
   },
   "outputs": [
    {
     "data": {
      "text/html": [
       "<div>\n",
       "<table border=\"1\" class=\"dataframe\">\n",
       "  <thead>\n",
       "    <tr style=\"text-align: right;\">\n",
       "      <th></th>\n",
       "      <th>sid</th>\n",
       "      <th>site</th>\n",
       "      <th>gs_code34</th>\n",
       "      <th>gs_text34</th>\n",
       "      <th>gs_code46</th>\n",
       "      <th>gs_text46</th>\n",
       "      <th>gs_code55</th>\n",
       "      <th>gs_text55</th>\n",
       "      <th>gs_comorbid1</th>\n",
       "      <th>gs_comorbid2</th>\n",
       "      <th>...</th>\n",
       "      <th>s999928</th>\n",
       "      <th>s999929</th>\n",
       "      <th>s999930</th>\n",
       "      <th>s999931</th>\n",
       "      <th>s999932</th>\n",
       "      <th>s999933</th>\n",
       "      <th>s999934</th>\n",
       "      <th>s999935</th>\n",
       "      <th>s999936</th>\n",
       "      <th>s999937</th>\n",
       "    </tr>\n",
       "  </thead>\n",
       "  <tbody>\n",
       "    <tr>\n",
       "      <th>0</th>\n",
       "      <td>A-21360006</td>\n",
       "      <td>AP</td>\n",
       "      <td>Z37</td>\n",
       "      <td>Stillbirth</td>\n",
       "      <td>Z37</td>\n",
       "      <td>Stillbirth</td>\n",
       "      <td>Z37</td>\n",
       "      <td>Stillbirth</td>\n",
       "      <td>NaN</td>\n",
       "      <td>NaN</td>\n",
       "      <td>...</td>\n",
       "      <td>0</td>\n",
       "      <td>0</td>\n",
       "      <td>0</td>\n",
       "      <td>0</td>\n",
       "      <td>0</td>\n",
       "      <td>0</td>\n",
       "      <td>0</td>\n",
       "      <td>0</td>\n",
       "      <td>0</td>\n",
       "      <td>0</td>\n",
       "    </tr>\n",
       "    <tr>\n",
       "      <th>1</th>\n",
       "      <td>A-21360451</td>\n",
       "      <td>AP</td>\n",
       "      <td>Z37</td>\n",
       "      <td>Stillbirth</td>\n",
       "      <td>Z37</td>\n",
       "      <td>Stillbirth</td>\n",
       "      <td>Z37</td>\n",
       "      <td>Stillbirth</td>\n",
       "      <td>NaN</td>\n",
       "      <td>NaN</td>\n",
       "      <td>...</td>\n",
       "      <td>0</td>\n",
       "      <td>0</td>\n",
       "      <td>0</td>\n",
       "      <td>0</td>\n",
       "      <td>0</td>\n",
       "      <td>0</td>\n",
       "      <td>0</td>\n",
       "      <td>0</td>\n",
       "      <td>0</td>\n",
       "      <td>0</td>\n",
       "    </tr>\n",
       "    <tr>\n",
       "      <th>2</th>\n",
       "      <td>A-21360452</td>\n",
       "      <td>AP</td>\n",
       "      <td>Z37</td>\n",
       "      <td>Stillbirth</td>\n",
       "      <td>Z37</td>\n",
       "      <td>Stillbirth</td>\n",
       "      <td>Z37</td>\n",
       "      <td>Stillbirth</td>\n",
       "      <td>NaN</td>\n",
       "      <td>NaN</td>\n",
       "      <td>...</td>\n",
       "      <td>0</td>\n",
       "      <td>0</td>\n",
       "      <td>0</td>\n",
       "      <td>0</td>\n",
       "      <td>0</td>\n",
       "      <td>0</td>\n",
       "      <td>0</td>\n",
       "      <td>0</td>\n",
       "      <td>0</td>\n",
       "      <td>0</td>\n",
       "    </tr>\n",
       "    <tr>\n",
       "      <th>3</th>\n",
       "      <td>A-21360453</td>\n",
       "      <td>AP</td>\n",
       "      <td>Z37</td>\n",
       "      <td>Stillbirth</td>\n",
       "      <td>Z37</td>\n",
       "      <td>Stillbirth</td>\n",
       "      <td>Z37</td>\n",
       "      <td>Stillbirth</td>\n",
       "      <td>NaN</td>\n",
       "      <td>NaN</td>\n",
       "      <td>...</td>\n",
       "      <td>0</td>\n",
       "      <td>0</td>\n",
       "      <td>0</td>\n",
       "      <td>0</td>\n",
       "      <td>0</td>\n",
       "      <td>0</td>\n",
       "      <td>0</td>\n",
       "      <td>0</td>\n",
       "      <td>0</td>\n",
       "      <td>0</td>\n",
       "    </tr>\n",
       "    <tr>\n",
       "      <th>4</th>\n",
       "      <td>A-21360454</td>\n",
       "      <td>AP</td>\n",
       "      <td>Z37</td>\n",
       "      <td>Stillbirth</td>\n",
       "      <td>Z37</td>\n",
       "      <td>Stillbirth</td>\n",
       "      <td>Z37</td>\n",
       "      <td>Stillbirth</td>\n",
       "      <td>NaN</td>\n",
       "      <td>NaN</td>\n",
       "      <td>...</td>\n",
       "      <td>0</td>\n",
       "      <td>0</td>\n",
       "      <td>0</td>\n",
       "      <td>0</td>\n",
       "      <td>0</td>\n",
       "      <td>0</td>\n",
       "      <td>0</td>\n",
       "      <td>0</td>\n",
       "      <td>0</td>\n",
       "      <td>0</td>\n",
       "    </tr>\n",
       "  </tbody>\n",
       "</table>\n",
       "<p>5 rows × 168 columns</p>\n",
       "</div>"
      ],
      "text/plain": [
       "          sid site gs_code34   gs_text34 gs_code46   gs_text46 gs_code55  \\\n",
       "0  A-21360006   AP       Z37  Stillbirth       Z37  Stillbirth       Z37   \n",
       "1  A-21360451   AP       Z37  Stillbirth       Z37  Stillbirth       Z37   \n",
       "2  A-21360452   AP       Z37  Stillbirth       Z37  Stillbirth       Z37   \n",
       "3  A-21360453   AP       Z37  Stillbirth       Z37  Stillbirth       Z37   \n",
       "4  A-21360454   AP       Z37  Stillbirth       Z37  Stillbirth       Z37   \n",
       "\n",
       "    gs_text55  gs_comorbid1  gs_comorbid2   ...     s999928  s999929  s999930  \\\n",
       "0  Stillbirth           NaN           NaN   ...           0        0        0   \n",
       "1  Stillbirth           NaN           NaN   ...           0        0        0   \n",
       "2  Stillbirth           NaN           NaN   ...           0        0        0   \n",
       "3  Stillbirth           NaN           NaN   ...           0        0        0   \n",
       "4  Stillbirth           NaN           NaN   ...           0        0        0   \n",
       "\n",
       "   s999931  s999932  s999933  s999934  s999935  s999936  s999937  \n",
       "0        0        0        0        0        0        0        0  \n",
       "1        0        0        0        0        0        0        0  \n",
       "2        0        0        0        0        0        0        0  \n",
       "3        0        0        0        0        0        0        0  \n",
       "4        0        0        0        0        0        0        0  \n",
       "\n",
       "[5 rows x 168 columns]"
      ]
     },
     "execution_count": 3,
     "metadata": {},
     "output_type": "execute_result"
    }
   ],
   "source": [
    "neonate_validated.head()"
   ]
  },
  {
   "cell_type": "code",
   "execution_count": 4,
   "metadata": {
    "collapsed": false
   },
   "outputs": [
    {
     "data": {
      "text/plain": [
       "Stillbirth                 1005\n",
       "Birth asphyxia              551\n",
       "Preterm Delivery            461\n",
       "Congenital malformation     249\n",
       "Meningitis/Sepsis           242\n",
       "Pneumonia                    83\n",
       "Name: gs_text34, dtype: int64"
      ]
     },
     "execution_count": 4,
     "metadata": {},
     "output_type": "execute_result"
    }
   ],
   "source": [
    "counts_by_cause = neonate_validated.gs_text34.value_counts()\n",
    "counts_by_cause"
   ]
  },
  {
   "cell_type": "markdown",
   "metadata": {},
   "source": [
    "# Up-Sample\n",
    "Observations are sampled such that all the original observations have a frequency of at least 1. This ensures that any rare combination of endorsements occur in the training data. Each cause is sampled to a frequency equal to that of the most frequent cause."
   ]
  },
  {
   "cell_type": "code",
   "execution_count": 5,
   "metadata": {
    "collapsed": false
   },
   "outputs": [],
   "source": [
    "# Use a RandomState for reproducibility\n",
    "rs = np.random.RandomState(777)\n",
    "\n",
    "# Upsample, so start with everything that current exists in the file\n",
    "new_index = [neonate_validated.index.values]\n",
    "\n",
    "for cause in counts_by_cause.index.unique():\n",
    "    indicies = neonate_validated.loc[neonate_validated.gs_text34 == cause].index.values\n",
    "    needed = counts_by_cause.max() - counts_by_cause.loc[cause]\n",
    "    new_index.append(rs.choice(indicies, needed))\n",
    "\n",
    "new_index = np.concatenate(new_index)"
   ]
  },
  {
   "cell_type": "code",
   "execution_count": 6,
   "metadata": {
    "collapsed": false
   },
   "outputs": [
    {
     "data": {
      "text/plain": [
       "Pneumonia                  1005\n",
       "Birth asphyxia             1005\n",
       "Stillbirth                 1005\n",
       "Congenital malformation    1005\n",
       "Preterm Delivery           1005\n",
       "Meningitis/Sepsis          1005\n",
       "Name: gs_text34, dtype: int64"
      ]
     },
     "execution_count": 6,
     "metadata": {},
     "output_type": "execute_result"
    }
   ],
   "source": [
    "neonate_uniform = neonate_validated.loc[new_index]\n",
    "neonate_uniform.gs_text34.value_counts()"
   ]
  },
  {
   "cell_type": "markdown",
   "metadata": {},
   "source": [
    "# Frequencies Dict\n",
    "In an effort to make a clean diff, I'm going to list the frequencies in the order in which the currently appear in the tariff data file. Since the dict will be unordered once imported, I'm going to read the python file as plain text."
   ]
  },
  {
   "cell_type": "code",
   "execution_count": 7,
   "metadata": {
    "collapsed": false
   },
   "outputs": [
    {
     "data": {
      "text/plain": [
       "D-5000598001    21\n",
       "B-3197          18\n",
       "P-G4206         18\n",
       "D-5000838002    17\n",
       "B-10369         17\n",
       "Name: sid, dtype: int64"
      ]
     },
     "execution_count": 7,
     "metadata": {},
     "output_type": "execute_result"
    }
   ],
   "source": [
    "freqs = neonate_uniform.sid.value_counts()\n",
    "freqs.head()"
   ]
  },
  {
   "cell_type": "code",
   "execution_count": 8,
   "metadata": {
    "collapsed": false
   },
   "outputs": [],
   "source": [
    "sids = []\n",
    "with open('../../smartva/data/neonate_tariff_data.py', 'r') as f:\n",
    "    line = f.readline()\n",
    "    while line and line != 'FREQUENCIES = {\\n':\n",
    "        line = f.readline()\n",
    "        \n",
    "    for line in f:\n",
    "        if line == '}\\n':\n",
    "            break\n",
    "        sid = line.strip().split(': ')[0].strip('\"')\n",
    "        sids.append(sid)"
   ]
  },
  {
   "cell_type": "code",
   "execution_count": 9,
   "metadata": {
    "collapsed": false
   },
   "outputs": [
    {
     "data": {
      "text/plain": [
       "['U-784', 'U-785', 'P-F9014', 'B-609', 'U-780']"
      ]
     },
     "execution_count": 9,
     "metadata": {},
     "output_type": "execute_result"
    }
   ],
   "source": [
    "sids[:5]"
   ]
  },
  {
   "cell_type": "code",
   "execution_count": 10,
   "metadata": {
    "collapsed": false
   },
   "outputs": [],
   "source": [
    "for sid in sids:\n",
    "    assert sid in freqs, '{}'.format(sid)"
   ]
  },
  {
   "cell_type": "code",
   "execution_count": 11,
   "metadata": {
    "collapsed": false
   },
   "outputs": [],
   "source": [
    "with open('new_neonate_freqs.txt', 'w') as f:\n",
    "    for sid in sids:\n",
    "        f.write('    \"{}\": {},\\n'.format(sid, freqs.loc[sid]))"
   ]
  },
  {
   "cell_type": "code",
   "execution_count": null,
   "metadata": {
    "collapsed": true
   },
   "outputs": [],
   "source": []
  }
 ],
 "metadata": {
  "anaconda-cloud": {},
  "kernelspec": {
   "display_name": "Python [conda root]",
   "language": "python",
   "name": "conda-root-py"
  },
  "language_info": {
   "codemirror_mode": {
    "name": "ipython",
    "version": 2
   },
   "file_extension": ".py",
   "mimetype": "text/x-python",
   "name": "python",
   "nbconvert_exporter": "python",
   "pygments_lexer": "ipython2",
   "version": "2.7.12"
  }
 },
 "nbformat": 4,
 "nbformat_minor": 1
}
