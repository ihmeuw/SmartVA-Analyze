{
 "metadata": {
  "name": "",
  "signature": "sha256:0e48863482159e7328fe11f6214b6083e05f326d3add630d6eea7ea16d5dccb0"
 },
 "nbformat": 3,
 "nbformat_minor": 0,
 "worksheets": [
  {
   "cells": [
    {
     "cell_type": "markdown",
     "metadata": {},
     "source": [
      "# End-to-end Testing of SmartVA-Analyze\n",
      "\n",
      "This folder contains our evolving approach to automatically testing end-to-end performance of SmartVA-Analyze.\n",
      "\n",
      "Testing notebooks document a full run of a particular test, e.g. `malaria_free_text.ipynb` confirms that free-text containing the word *malaria* is treated correctly, a problem that was addressed in issue SVA-198."
     ]
    },
    {
     "cell_type": "markdown",
     "metadata": {},
     "source": [
      "# Running tests\n",
      "\n",
      "It is possible to run these tests in a notebook, with the Cell->Run All command.  It is also possible to distribute them over the cluster, or just run them sequentially from the command line with the [runipy](https://github.com/paulgb/runipy) command.\n",
      "\n",
      "Example for Abie:\n",
      "\n",
      "    runipy --profile ~/.ipython/profile_nbserver test/end_to_end_notebooks/malaria_free_text.ipynb\n"
     ]
    }
   ],
   "metadata": {}
  }
 ]
}