{
 "cells": [
  {
   "cell_type": "markdown",
   "metadata": {},
   "source": [
    "## Check the mapping in the app data"
   ]
  },
  {
   "cell_type": "code",
   "execution_count": null,
   "metadata": {
    "collapsed": true
   },
   "outputs": [],
   "source": [
    "# Change to the smartva repo (on the develop branch)\n",
    "%cd '/ihme/scratch/users/josephj7/repos/smartva'"
   ]
  },
  {
   "cell_type": "code",
   "execution_count": 7,
   "metadata": {
    "collapsed": false
   },
   "outputs": [],
   "source": [
    "# Pull in the current mapping data for child weights for both child and neonate modules\n",
    "import smartva\n",
    "\n",
    "# ODK to Presymptom mapping\n",
    "from smartva.data.child_pre_symptom_data import VAR_CONVERSION_MAP as ch_odk_to_pre\n",
    "from smartva.data.neonate_pre_symptom_data import VAR_CONVERSION_MAP as nn_odk_to_pre\n",
    "\n",
    "# Additional headers\n",
    "from smartva.data.child_pre_symptom_data import GENERATED_VARS_DATA as ch_add_headers\n",
    "from smartva.data.neonate_pre_symptom_data import GENERATED_VARS_DATA as nn_add_headers\n",
    "\n",
    "# Presymptom to Symptom mapping\n",
    "from smartva.data.child_symptom_data import VAR_CONVERSION_MAP as ch_pre_to_symp\n",
    "from smartva.data.neonate_symptom_data import VAR_CONVERSION_MAP as nn_pre_to_symp\n",
    "\n",
    "# Pull in the conversion data and cutoffs\n",
    "from smartva.data.child_symptom_data import DURATION_CUTOFF_DATA as ch_cutoffs\n",
    "from smartva.data.neonate_symptom_data import DURATION_CUTOFF_DATA as nn_cutoffs\n",
    "from smartva.data.common_data import WEIGHT_CONVERSION_DATA as weight_data"
   ]
  },
  {
   "cell_type": "code",
   "execution_count": 10,
   "metadata": {
    "collapsed": false
   },
   "outputs": [
    {
     "name": "stdout",
     "output_type": "stream",
     "text": [
      "c1_08a\n",
      "c1_08b\n",
      "c1_08a\n",
      "c1_08b\n"
     ]
    }
   ],
   "source": [
    "# Examine the current mapping\n",
    "# ODK to Presymptom \n",
    "print ch_odk_to_pre['child_1_8']\n",
    "print ch_odk_to_pre['child_1_8a']\n",
    "print nn_odk_to_pre['child_1_8']\n",
    "print nn_odk_to_pre['child_1_8a']"
   ]
  },
  {
   "cell_type": "code",
   "execution_count": 16,
   "metadata": {
    "collapsed": false
   },
   "outputs": [
    {
     "name": "stdout",
     "output_type": "stream",
     "text": [
      "In the child module c1_08num maps to s14\n",
      "In the neonate module c1_08num maps to s14\n"
     ]
    }
   ],
   "source": [
    "# Presymptom to Symptom\n",
    "# look for any of these variables mapping from the presymptom to symptom in both child and neonate\n",
    "vars = ['c1_08a', 'c1_08b', 'c1_08num']\n",
    "for v in vars:\n",
    "    try:\n",
    "        print \"In the child module \" + v + \" maps to \" + ch_pre_to_symp[v]\n",
    "    except:\n",
    "        pass\n",
    "    try:\n",
    "        print \"In the neonate module \" + v + \" maps to \" + nn_pre_to_symp[v]\n",
    "    except:\n",
    "        pass"
   ]
  },
  {
   "cell_type": "code",
   "execution_count": 15,
   "metadata": {
    "collapsed": false
   },
   "outputs": [
    {
     "name": "stdout",
     "output_type": "stream",
     "text": [
      "Child cutoff: 1000\n",
      "Neonate cutoff: 2500\n",
      "{1: 'child_1_8a', 2: 'child_1_8b'}\n"
     ]
    }
   ],
   "source": [
    "# Examine the cutoffs\n",
    "print \"Child cutoff: \" + str(ch_cutoffs['s14'])\n",
    "print \"Neonate cutoff: \" + str(nn_cutoffs['s14'])\n",
    "\n",
    "# Examine the weight conversion data\n",
    "print weight_data['child_1_8']\n"
   ]
  },
  {
   "cell_type": "markdown",
   "metadata": {},
   "source": [
    "Why is the child cutoff lower? In what world does it make sense to have a one month old under 1 kg? This must be a really high risk symptom for very rare causes."
   ]
  },
  {
   "cell_type": "markdown",
   "metadata": {},
   "source": [
    "## Create test data"
   ]
  },
  {
   "cell_type": "code",
   "execution_count": 1,
   "metadata": {
    "collapsed": true
   },
   "outputs": [],
   "source": [
    "import numpy as np, pandas as pd"
   ]
  },
  {
   "cell_type": "code",
   "execution_count": 8,
   "metadata": {
    "collapsed": true
   },
   "outputs": [],
   "source": [
    "# We're going to test child and neonate \n",
    "# with weights coded in both kg and g\n",
    "# both above and below the threshold\n",
    "test_data = pd.DataFrame(index=range(12))"
   ]
  },
  {
   "cell_type": "code",
   "execution_count": 9,
   "metadata": {
    "collapsed": true
   },
   "outputs": [],
   "source": [
    "# Fill in all the needed headers\n",
    "for k in ch_odk_to_pre:\n",
    "    test_data[k] = np.nan\n",
    "for k in nn_odk_to_pre:\n",
    "    test_data[k] = np.nan\n",
    "for k in ch_add_headers:\n",
    "    test_data[k] = np.nan\n",
    "for k in nn_odk_to_pre:\n",
    "    test_data[k] = np.nan"
   ]
  },
  {
   "cell_type": "code",
   "execution_count": 29,
   "metadata": {
    "collapsed": false
   },
   "outputs": [],
   "source": [
    "# Fill in the study id\n",
    "test_data['sid'] = test_data.index\n",
    "\n",
    "# The first six rows are neonates (under 28 days). The last six rows are children (above 28 days)\n",
    "test_data['gen_5_4'] = 4 # age in days\n",
    "test_data['gen_5_4c'] = [15] * 6 + [500] * 6 \n",
    "test_data['agedays'] = test_data['gen_5_4c'] # just in case\n",
    "test_data['gen_5_4d'] = [1] * 6 + [2] * 6\n",
    "\n",
    "# The first three rows of each age group are weight in grams. The last three are weight in kilograms\n",
    "test_data['child_1_8'] = ([1]*3 + [2]*3) * 2\n",
    "\n",
    "# Weights are above and below age-specific thresholds\n",
    "# In case I have the units backwards, I've include a huge number for both units\n",
    "# The smallest number will be below the threshold regardless of the units\n",
    "# This ensures something is endorsed regardless of the units \n",
    "# and whether endorsement depends on being above or below the threshold\n",
    "test_data['child_1_8a'] = [2000, 3000, 10000, 2.0, 3.0, 10000, 800, 1200, 10000, 0.8, 1.2, 10000]\n",
    "test_data['child_1_8b'] = [2000, 3000, 10000, 2.0, 3.0, 10000, 800, 1200, 10000, 0.8, 1.2, 10000]\n"
   ]
  },
  {
   "cell_type": "code",
   "execution_count": 31,
   "metadata": {
    "collapsed": false
   },
   "outputs": [
    {
     "data": {
      "text/html": [
       "<div>\n",
       "<table border=\"1\" class=\"dataframe\">\n",
       "  <thead>\n",
       "    <tr style=\"text-align: right;\">\n",
       "      <th></th>\n",
       "      <th>gen_5_4</th>\n",
       "      <th>gen_5_4c</th>\n",
       "      <th>agedays</th>\n",
       "      <th>gen_5_4d</th>\n",
       "      <th>child_1_8</th>\n",
       "      <th>child_1_8a</th>\n",
       "      <th>child_1_8b</th>\n",
       "    </tr>\n",
       "  </thead>\n",
       "  <tbody>\n",
       "    <tr>\n",
       "      <th>0</th>\n",
       "      <td>4</td>\n",
       "      <td>15</td>\n",
       "      <td>15</td>\n",
       "      <td>1</td>\n",
       "      <td>1</td>\n",
       "      <td>2000.0</td>\n",
       "      <td>2000.0</td>\n",
       "    </tr>\n",
       "    <tr>\n",
       "      <th>1</th>\n",
       "      <td>4</td>\n",
       "      <td>15</td>\n",
       "      <td>15</td>\n",
       "      <td>1</td>\n",
       "      <td>1</td>\n",
       "      <td>3000.0</td>\n",
       "      <td>3000.0</td>\n",
       "    </tr>\n",
       "    <tr>\n",
       "      <th>2</th>\n",
       "      <td>4</td>\n",
       "      <td>15</td>\n",
       "      <td>15</td>\n",
       "      <td>1</td>\n",
       "      <td>1</td>\n",
       "      <td>10000.0</td>\n",
       "      <td>10000.0</td>\n",
       "    </tr>\n",
       "    <tr>\n",
       "      <th>3</th>\n",
       "      <td>4</td>\n",
       "      <td>15</td>\n",
       "      <td>15</td>\n",
       "      <td>1</td>\n",
       "      <td>2</td>\n",
       "      <td>2.0</td>\n",
       "      <td>2.0</td>\n",
       "    </tr>\n",
       "    <tr>\n",
       "      <th>4</th>\n",
       "      <td>4</td>\n",
       "      <td>15</td>\n",
       "      <td>15</td>\n",
       "      <td>1</td>\n",
       "      <td>2</td>\n",
       "      <td>3.0</td>\n",
       "      <td>3.0</td>\n",
       "    </tr>\n",
       "    <tr>\n",
       "      <th>5</th>\n",
       "      <td>4</td>\n",
       "      <td>15</td>\n",
       "      <td>15</td>\n",
       "      <td>1</td>\n",
       "      <td>2</td>\n",
       "      <td>10000.0</td>\n",
       "      <td>10000.0</td>\n",
       "    </tr>\n",
       "    <tr>\n",
       "      <th>6</th>\n",
       "      <td>4</td>\n",
       "      <td>500</td>\n",
       "      <td>500</td>\n",
       "      <td>2</td>\n",
       "      <td>1</td>\n",
       "      <td>800.0</td>\n",
       "      <td>800.0</td>\n",
       "    </tr>\n",
       "    <tr>\n",
       "      <th>7</th>\n",
       "      <td>4</td>\n",
       "      <td>500</td>\n",
       "      <td>500</td>\n",
       "      <td>2</td>\n",
       "      <td>1</td>\n",
       "      <td>1200.0</td>\n",
       "      <td>1200.0</td>\n",
       "    </tr>\n",
       "    <tr>\n",
       "      <th>8</th>\n",
       "      <td>4</td>\n",
       "      <td>500</td>\n",
       "      <td>500</td>\n",
       "      <td>2</td>\n",
       "      <td>1</td>\n",
       "      <td>10000.0</td>\n",
       "      <td>10000.0</td>\n",
       "    </tr>\n",
       "    <tr>\n",
       "      <th>9</th>\n",
       "      <td>4</td>\n",
       "      <td>500</td>\n",
       "      <td>500</td>\n",
       "      <td>2</td>\n",
       "      <td>2</td>\n",
       "      <td>0.8</td>\n",
       "      <td>0.8</td>\n",
       "    </tr>\n",
       "    <tr>\n",
       "      <th>10</th>\n",
       "      <td>4</td>\n",
       "      <td>500</td>\n",
       "      <td>500</td>\n",
       "      <td>2</td>\n",
       "      <td>2</td>\n",
       "      <td>1.2</td>\n",
       "      <td>1.2</td>\n",
       "    </tr>\n",
       "    <tr>\n",
       "      <th>11</th>\n",
       "      <td>4</td>\n",
       "      <td>500</td>\n",
       "      <td>500</td>\n",
       "      <td>2</td>\n",
       "      <td>2</td>\n",
       "      <td>10000.0</td>\n",
       "      <td>10000.0</td>\n",
       "    </tr>\n",
       "  </tbody>\n",
       "</table>\n",
       "</div>"
      ],
      "text/plain": [
       "    gen_5_4  gen_5_4c  agedays  gen_5_4d  child_1_8  child_1_8a  child_1_8b\n",
       "0         4        15       15         1          1      2000.0      2000.0\n",
       "1         4        15       15         1          1      3000.0      3000.0\n",
       "2         4        15       15         1          1     10000.0     10000.0\n",
       "3         4        15       15         1          2         2.0         2.0\n",
       "4         4        15       15         1          2         3.0         3.0\n",
       "5         4        15       15         1          2     10000.0     10000.0\n",
       "6         4       500      500         2          1       800.0       800.0\n",
       "7         4       500      500         2          1      1200.0      1200.0\n",
       "8         4       500      500         2          1     10000.0     10000.0\n",
       "9         4       500      500         2          2         0.8         0.8\n",
       "10        4       500      500         2          2         1.2         1.2\n",
       "11        4       500      500         2          2     10000.0     10000.0"
      ]
     },
     "execution_count": 31,
     "metadata": {},
     "output_type": "execute_result"
    }
   ],
   "source": [
    "# Check the non-missing entries that we input\n",
    "test_data[['gen_5_4','gen_5_4c','agedays','gen_5_4d','child_1_8','child_1_8a','child_1_8b']]"
   ]
  },
  {
   "cell_type": "markdown",
   "metadata": {},
   "source": [
    "## Run smartva"
   ]
  },
  {
   "cell_type": "code",
   "execution_count": 19,
   "metadata": {
    "collapsed": false
   },
   "outputs": [],
   "source": [
    "# Make a temp directory\n",
    "import tempfile\n",
    "dname = tempfile.mkdtemp()\n",
    "\n",
    "# Save the test data\n",
    "fname = 'test_data.csv'\n",
    "test_data.to_csv(fname, index=False)\n"
   ]
  },
  {
   "cell_type": "code",
   "execution_count": 16,
   "metadata": {
    "collapsed": false
   },
   "outputs": [
    {
     "name": "stdout",
     "output_type": "stream",
     "text": [
      "* \u001b[32mdevelop\u001b[m\r\n",
      "  master\u001b[m\r\n"
     ]
    }
   ],
   "source": [
    "!git branch"
   ]
  },
  {
   "cell_type": "code",
   "execution_count": 20,
   "metadata": {
    "collapsed": false,
    "scrolled": true
   },
   "outputs": [
    {
     "name": "stdout",
     "output_type": "stream",
     "text": [
      "\n",
      "Starting analysis with options:\n",
      "- Input file: test_data.csv\n",
      "- Output folder: /tmp/tmpc8CnN6\n",
      "- Country: None\n",
      "- HIV Region: True\n",
      "- Malaria Region: True\n",
      "- HCE variables: True\n",
      "- Free text variables: True\n",
      "\n",
      "Preparing variable headers.\n",
      "Initial data prep\n",
      "|################################################################|Time: 0:00:00\n",
      "Child :: Processing pre-symptom data\n",
      "|################################################################|Time: 0:00:00\n",
      "Child :: Processing symptom data\n",
      "|################################################################|Time: 0:00:00\n",
      "Child :: Processing tariffs\n",
      "Child :: Generating validated VA cause list.\n",
      "|################################################################|Time: 0:00:10\n",
      "Child :: Generating VA cause list.\n",
      "|################################################################|Time: 0:00:00\n",
      "Child :: Generating cause rankings.\n",
      "|################################################################|Time: 0:00:00\n",
      "Neonate :: Processing pre-symptom data\n",
      "|################################################################|Time: 0:00:00\n",
      "Neonate :: Processing symptom data\n",
      "|################################################################|Time: 0:00:00\n",
      "Neonate :: Processing tariffs\n",
      "Neonate :: Generating validated VA cause list.\n",
      "|################################################################|Time: 0:00:05\n",
      "Neonate :: Generating VA cause list.\n",
      "|################################################################|Time: 0:00:00\n",
      "Neonate :: Generating cause rankings.\n",
      "|################################################################|Time: 0:00:00\n",
      "Making cause graphs\n",
      "|################################################################|Time: 0:00:00\n",
      "Making CSMF graphs\n",
      "|################################################################|Time: 0:00:00\n",
      "Process completed.\n",
      "\n",
      "Warnings were generated during processing. Please review the file \"/tmp/tmpc8CnN6/warnings.txt\" for further information.\n",
      "CPU times: user 110 ms, sys: 32 ms, total: 142 ms\n",
      "Wall time: 19.5 s\n"
     ]
    }
   ],
   "source": [
    "%%time\n",
    "!python app.py $fname $dname --country \"Unknown\""
   ]
  },
  {
   "cell_type": "markdown",
   "metadata": {
    "collapsed": true
   },
   "source": [
    "## Analyze output"
   ]
  },
  {
   "cell_type": "code",
   "execution_count": 23,
   "metadata": {
    "collapsed": false
   },
   "outputs": [],
   "source": [
    "child_out = pd.read_csv(dname +'/intermediate-files/child-symptom.csv')"
   ]
  },
  {
   "cell_type": "code",
   "execution_count": 24,
   "metadata": {
    "collapsed": false
   },
   "outputs": [
    {
     "data": {
      "text/plain": [
       "0    0\n",
       "1    0\n",
       "2    0\n",
       "3    0\n",
       "4    0\n",
       "5    0\n",
       "Name: s14, dtype: int64"
      ]
     },
     "execution_count": 24,
     "metadata": {},
     "output_type": "execute_result"
    }
   ],
   "source": [
    "# Check s14 endorsement for children\n",
    "child_out['s14']"
   ]
  },
  {
   "cell_type": "code",
   "execution_count": 26,
   "metadata": {
    "collapsed": false
   },
   "outputs": [],
   "source": [
    "neonate_out = pd.read_csv(dname + '/intermediate-files/neonate-symptom.csv')"
   ]
  },
  {
   "cell_type": "code",
   "execution_count": 27,
   "metadata": {
    "collapsed": false
   },
   "outputs": [
    {
     "data": {
      "text/plain": [
       "0    0\n",
       "1    0\n",
       "2    0\n",
       "3    0\n",
       "4    0\n",
       "5    0\n",
       "Name: s14, dtype: int64"
      ]
     },
     "execution_count": 27,
     "metadata": {},
     "output_type": "execute_result"
    }
   ],
   "source": [
    "# Check s14 endorsement for neonates\n",
    "neonate_out['s14']"
   ]
  },
  {
   "cell_type": "markdown",
   "metadata": {},
   "source": [
    "We got nothing... Something should have been endorsed."
   ]
  },
  {
   "cell_type": "code",
   "execution_count": null,
   "metadata": {
    "collapsed": true
   },
   "outputs": [],
   "source": []
  }
 ],
 "metadata": {
  "kernelspec": {
   "display_name": "Python 2",
   "language": "python",
   "name": "python2"
  },
  "language_info": {
   "codemirror_mode": {
    "name": "ipython",
    "version": 2
   },
   "file_extension": ".py",
   "mimetype": "text/x-python",
   "name": "python",
   "nbconvert_exporter": "python",
   "pygments_lexer": "ipython2",
   "version": "2.7.10"
  }
 },
 "nbformat": 4,
 "nbformat_minor": 0
}
